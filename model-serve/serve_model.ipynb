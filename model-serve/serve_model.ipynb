{
 "cells": [
  {
   "cell_type": "markdown",
   "id": "2d52c6d0-7ab3-4c64-8f8f-67c0139f3e19",
   "metadata": {},
   "source": [
    "# Train\n",
    "\n",
    "1. Load the Iris dataset from sk-learn (150x4 numpy.ndarray)\n",
    "2. Cluster the data by using k-means algorithm\n",
    "3. Save the trained model in onnx file"
   ]
  },
  {
   "cell_type": "code",
   "execution_count": 6,
   "id": "707a6874-426f-4a65-b87e-2513431379c0",
   "metadata": {
    "tags": []
   },
   "outputs": [],
   "source": [
    "model_filename = \"rf_iris.onnx\""
   ]
  },
  {
   "cell_type": "code",
   "execution_count": 3,
   "id": "a0394f15-60a2-4eb1-a72e-0c09b250ef46",
   "metadata": {
    "tags": []
   },
   "outputs": [
    {
     "name": "stdout",
     "output_type": "stream",
     "text": [
      "Loading data\n",
      "Train kMeans...\n",
      "Model saved as rf_iris.onnx\n"
     ]
    }
   ],
   "source": [
    "import numpy as np\n",
    "from sklearn.datasets import load_iris\n",
    "from sklearn.model_selection import train_test_split\n",
    "from skl2onnx import to_onnx\n",
    "from sklearn.cluster import KMeans\n",
    "\n",
    "\n",
    "print(\"Loading data\")\n",
    "iris = load_iris()\n",
    "X, y = iris.data, iris.target\n",
    "X = X.astype(np.float32)\n",
    "\n",
    "\n",
    "X_train, X_test, y_train, y_test = train_test_split(X, y)\n",
    "\n",
    "print(\"Train kMeans...\")\n",
    "kmeans = KMeans(n_clusters=3, init='k-means++', max_iter=300, n_init=10,\n",
    "                random_state=0)\n",
    "y_kmeans = kmeans.fit_predict(X_train, y_train)\n",
    "\n",
    "# Convert into ONNX format.\n",
    "onx = to_onnx(kmeans, X[:1])\n",
    "with open(model_filename, \"wb\") as f:\n",
    "    f.write(onx.SerializeToString())\n",
    "    \n",
    "print(f\"Model saved as {model_filename}\")"
   ]
  },
  {
   "cell_type": "markdown",
   "id": "83892b9a-9753-4620-9bc2-e06b3a59166f",
   "metadata": {},
   "source": [
    "# Upload Model"
   ]
  },
  {
   "cell_type": "code",
   "execution_count": 4,
   "id": "99250c0a-5412-4bbc-b107-68db28e9b033",
   "metadata": {
    "tags": []
   },
   "outputs": [
    {
     "name": "stdout",
     "output_type": "stream",
     "text": [
      "Requirement already satisfied: boto3 in /opt/app-root/lib/python3.9/site-packages (1.34.89)\n",
      "Requirement already satisfied: botocore<1.35.0,>=1.34.89 in /opt/app-root/lib/python3.9/site-packages (from boto3) (1.34.89)\n",
      "Requirement already satisfied: jmespath<2.0.0,>=0.7.1 in /opt/app-root/lib/python3.9/site-packages (from boto3) (1.0.1)\n",
      "Requirement already satisfied: s3transfer<0.11.0,>=0.10.0 in /opt/app-root/lib/python3.9/site-packages (from boto3) (0.10.1)\n",
      "Requirement already satisfied: python-dateutil<3.0.0,>=2.1 in /opt/app-root/lib/python3.9/site-packages (from botocore<1.35.0,>=1.34.89->boto3) (2.9.0.post0)\n",
      "Requirement already satisfied: urllib3<1.27,>=1.25.4 in /opt/app-root/lib/python3.9/site-packages (from botocore<1.35.0,>=1.34.89->boto3) (1.26.18)\n",
      "Requirement already satisfied: six>=1.5 in /opt/app-root/lib/python3.9/site-packages (from python-dateutil<3.0.0,>=2.1->botocore<1.35.0,>=1.34.89->boto3) (1.16.0)\n",
      "\n",
      "\u001b[1m[\u001b[0m\u001b[34;49mnotice\u001b[0m\u001b[1;39;49m]\u001b[0m\u001b[39;49m A new release of pip available: \u001b[0m\u001b[31;49m22.2.2\u001b[0m\u001b[39;49m -> \u001b[0m\u001b[32;49m24.0\u001b[0m\n",
      "\u001b[1m[\u001b[0m\u001b[34;49mnotice\u001b[0m\u001b[1;39;49m]\u001b[0m\u001b[39;49m To update, run: \u001b[0m\u001b[32;49mpip install --upgrade pip\u001b[0m\n"
     ]
    }
   ],
   "source": [
    "! pip install boto3"
   ]
  },
  {
   "cell_type": "code",
   "execution_count": 8,
   "id": "9acfd20f-0688-44a1-889f-e221b4b78885",
   "metadata": {
    "tags": []
   },
   "outputs": [
    {
     "name": "stdout",
     "output_type": "stream",
     "text": [
      "Uploaded model to bucket mybucket\n"
     ]
    }
   ],
   "source": [
    "import os\n",
    "import boto3\n",
    "\n",
    "s3_destination_path = \"models/model.onnx\"\n",
    "\n",
    "key_id = os.getenv(\"AWS_ACCESS_KEY_ID\")\n",
    "secret_key = os.getenv(\"AWS_SECRET_ACCESS_KEY\")\n",
    "endpoint = os.getenv(\"AWS_S3_ENDPOINT\")\n",
    "bucket_name = os.getenv(\"AWS_S3_BUCKET\")\n",
    "\n",
    "s3 = boto3.client(\n",
    "   \"s3\",\n",
    "   aws_access_key_id=key_id,\n",
    "   aws_secret_access_key=secret_key,\n",
    "   endpoint_url=endpoint,\n",
    "   use_ssl=True)\n",
    "\n",
    "s3.upload_file(model_filename, bucket_name, Key=s3_destination_path)\n",
    "\n",
    "print(f\"Uploaded model to bucket {bucket_name}\")"
   ]
  },
  {
   "cell_type": "markdown",
   "id": "cb7f820e-e1aa-4f60-bf33-f24fa0aaee9c",
   "metadata": {},
   "source": [
    "# Use model \n",
    "\n",
    "After having created a model serving runtime with a deployed model, you can use the model server to inference data"
   ]
  },
  {
   "cell_type": "code",
   "execution_count": 21,
   "id": "3c0a47f4-dfc3-44fd-8756-3a7477cdc8a7",
   "metadata": {
    "tags": []
   },
   "outputs": [],
   "source": [
    "model_server_endpoint = \"REPLACE_ME\"\n",
    "token = \"REPLACE_ME\""
   ]
  },
  {
   "cell_type": "code",
   "execution_count": null,
   "id": "19f20e19-fcda-4364-a7cf-7ef702b8e563",
   "metadata": {
    "tags": []
   },
   "outputs": [],
   "source": [
    "import requests\n",
    "\n",
    "\n",
    "headers = {\n",
    "    'Authorization': f'Bearer {token}'\n",
    "}\n",
    "payload = {\"inputs\" : [{\"name\" : \"X\",\"shape\" : [ 1, 4 ],\"datatype\" : \"FP32\",\"data\" : [ 3, 4, 3, 2 ]}],\"outputs\" : [{\"name\" : \"output0\"}]}\n",
    "\n",
    "response = requests.post(\n",
    "    model_server_endpoint, \n",
    "    headers = headers,\n",
    "    json = payload\n",
    ")\n",
    "\n",
    "if response.ok:\n",
    "    print(response.json())\n",
    "else:\n",
    "    raise Exception(response.text)"
   ]
  },
  {
   "cell_type": "code",
   "execution_count": null,
   "id": "708506c5-c862-45d1-bf6a-1c67ad4d06fd",
   "metadata": {},
   "outputs": [],
   "source": []
  }
 ],
 "metadata": {
  "kernelspec": {
   "display_name": "Python 3.9",
   "language": "python",
   "name": "python3"
  },
  "language_info": {
   "codemirror_mode": {
    "name": "ipython",
    "version": 3
   },
   "file_extension": ".py",
   "mimetype": "text/x-python",
   "name": "python",
   "nbconvert_exporter": "python",
   "pygments_lexer": "ipython3",
   "version": "3.9.18"
  }
 },
 "nbformat": 4,
 "nbformat_minor": 5
}
